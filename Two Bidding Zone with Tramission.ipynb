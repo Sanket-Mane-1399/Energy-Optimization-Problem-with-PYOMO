{
 "cells": [
  {
   "cell_type": "markdown",
   "id": "eaa9a61b-051f-4b63-b899-50c154461a4d",
   "metadata": {},
   "source": [
    "# Two Bidding Zone with Transmission"
   ]
  },
  {
   "cell_type": "markdown",
   "id": "21c1bb35-8aef-4d13-94b6-80be76eb1e94",
   "metadata": {},
   "source": [
    "Single bidding zone optimisation problem is expanded to\n",
    "\\begin{equation}\n",
    "  \\min_{g_{i,s}, f_\\ell} \\sum_s o_{i,s} g_{i,s}\n",
    "\\end{equation}\n",
    "such that\n",
    "\\begin{align}\n",
    "  g_{i,s} &\\leq G_{i,s} \\\\\n",
    "  g_{i,s} &\\geq 0 \\\\\n",
    "  \\sum_s g_{i,s} - \\sum_\\ell K_{i\\ell} f_\\ell &= d_i & \\text{KCL} \\\\\n",
    "  |f_\\ell| &\\leq F_\\ell & \\text{line limits}  \\\\\n",
    "  \\sum_\\ell C_{\\ell c} x_\\ell f_\\ell &= 0 & \\text{KVL} \n",
    "\\end{align}\n",
    "\n",
    "In this example, we connect the previous South African electricity system with a hydro generation unit in Mozambique through a single transmission line. Note that because a single transmission line will not result in any cycles, we can neglect KVL in this case.\n",
    "\n",
    "We are given the following data (all in MW):"
   ]
  },
  {
   "cell_type": "code",
   "execution_count": 1,
   "id": "cc79e0b1-83b7-4cc0-8dbf-a9fe8b9861f5",
   "metadata": {},
   "outputs": [],
   "source": [
    "import pyomo.environ as pe\n",
    "import pandas as pd"
   ]
  },
  {
   "cell_type": "code",
   "execution_count": 2,
   "id": "4b3fbff8-f1e5-4eef-a3ce-a96b5cb57178",
   "metadata": {},
   "outputs": [],
   "source": [
    "capacities = {\n",
    "    \"South Africa\": {\"Coal\": 35000, \"Wind\": 3000, \"Gas\": 8000, \"Oil\": 2000},\n",
    "    \"Mozambique\": {\"Hydro\": 1200},\n",
    "}"
   ]
  },
  {
   "cell_type": "code",
   "execution_count": 3,
   "id": "32b683ea-a5ce-40eb-ade2-75b83983f3c4",
   "metadata": {},
   "outputs": [],
   "source": [
    "transmission = 500"
   ]
  },
  {
   "cell_type": "code",
   "execution_count": 4,
   "id": "56cc184a-bccf-4967-ae99-24fe8cd85ae8",
   "metadata": {},
   "outputs": [],
   "source": [
    "loads = {\"South Africa\": 42000, \"Mozambique\": 650}"
   ]
  },
  {
   "cell_type": "code",
   "execution_count": 5,
   "id": "c75f337b-cef6-45e7-8fdf-68c7c4525a2a",
   "metadata": {},
   "outputs": [],
   "source": [
    "marginal_costs = {\n",
    "    \"Wind\": 0,\n",
    "    \"Coal\": 30,\n",
    "    \"Gas\": 60,\n",
    "    \"Oil\": 80,\n",
    "    \"Hydro\": 0,\n",
    "}"
   ]
  },
  {
   "cell_type": "code",
   "execution_count": 6,
   "id": "19780921-1cc9-4dd0-8518-df913bed4579",
   "metadata": {},
   "outputs": [],
   "source": [
    "m = pe.ConcreteModel()\n",
    "m.dual = pe.Suffix(direction = pe.Suffix.IMPORT)"
   ]
  },
  {
   "cell_type": "code",
   "execution_count": 7,
   "id": "dbf11edc-171c-4cb5-ba70-2d6e89c95cc9",
   "metadata": {},
   "outputs": [],
   "source": [
    "valid_pairs = [(c, s) for c in capacities for s in capacities[c]]\n",
    "\n",
    "m.country_tech_pairs = pe.Set(initialize=valid_pairs, dimen=2)"
   ]
  },
  {
   "cell_type": "code",
   "execution_count": 8,
   "id": "5bdecdd7-824b-4804-8458-2b9edb3e1d59",
   "metadata": {},
   "outputs": [
    {
     "name": "stdout",
     "output_type": "stream",
     "text": [
      "country_tech_pairs : Size=1, Index=None, Ordered=Insertion\n",
      "    Key  : Dimen : Domain : Size : Members\n",
      "    None :     2 :    Any :    5 : {('South Africa', 'Coal'), ('South Africa', 'Wind'), ('South Africa', 'Gas'), ('South Africa', 'Oil'), ('Mozambique', 'Hydro')}\n"
     ]
    }
   ],
   "source": [
    "m.country_tech_pairs.pprint()"
   ]
  },
  {
   "cell_type": "code",
   "execution_count": 9,
   "id": "9caa207f-48d2-4866-9fe3-9a1d51d683a7",
   "metadata": {},
   "outputs": [],
   "source": [
    "# Define variable only for existing pairs\n",
    "m.g = pe.Var(m.country_tech_pairs, within=pe.NonNegativeReals)"
   ]
  },
  {
   "cell_type": "code",
   "execution_count": 10,
   "id": "96741a48-35a4-40f7-9357-cabb8737ca11",
   "metadata": {},
   "outputs": [],
   "source": [
    "m.f = pe.Var()"
   ]
  },
  {
   "cell_type": "code",
   "execution_count": 11,
   "id": "2c7ef62b-0e72-4a2a-8a80-44111a495738",
   "metadata": {},
   "outputs": [],
   "source": [
    "m.cost = pe.Objective(\n",
    "    expr=sum(marginal_costs[s] * m.g[c, s] for (c, s) in m.country_tech_pairs)\n",
    ")"
   ]
  },
  {
   "cell_type": "code",
   "execution_count": 12,
   "id": "ac52984e-9e90-45d8-9830-9b8c9cf1cfd2",
   "metadata": {},
   "outputs": [],
   "source": [
    "@m.Constraint(m.country_tech_pairs)\n",
    "def generator_limits (m,c,s):\n",
    "    return m.g[c,s] <= capacities[c].get(s,0)"
   ]
  },
  {
   "cell_type": "code",
   "execution_count": 13,
   "id": "04ee1948-2370-4499-aaaf-65cc0aca339f",
   "metadata": {},
   "outputs": [
    {
     "name": "stdout",
     "output_type": "stream",
     "text": [
      "generator_limits : Size=5, Index=country_tech_pairs, Active=True\n",
      "    Key                      : Lower : Body                 : Upper   : Active\n",
      "     ('Mozambique', 'Hydro') :  -Inf :  g[Mozambique,Hydro] :  1200.0 :   True\n",
      "    ('South Africa', 'Coal') :  -Inf : g[South Africa,Coal] : 35000.0 :   True\n",
      "     ('South Africa', 'Gas') :  -Inf :  g[South Africa,Gas] :  8000.0 :   True\n",
      "     ('South Africa', 'Oil') :  -Inf :  g[South Africa,Oil] :  2000.0 :   True\n",
      "    ('South Africa', 'Wind') :  -Inf : g[South Africa,Wind] :  3000.0 :   True\n"
     ]
    }
   ],
   "source": [
    "m.generator_limits.pprint()"
   ]
  },
  {
   "cell_type": "code",
   "execution_count": 14,
   "id": "1cf76678-61fb-4f6f-8a2e-3735f9fe971a",
   "metadata": {},
   "outputs": [],
   "source": [
    "@m.Constraint(capacities.keys())\n",
    "def kcl(m, c):\n",
    "    sign = -1 if c == \"Mozambique\" else 1\n",
    "    return sum(m.g[c, s] for s in capacities[c]) - sign * m.f == loads[c]"
   ]
  },
  {
   "cell_type": "code",
   "execution_count": 15,
   "id": "2b46a558-8049-4402-81f8-250801313bcd",
   "metadata": {},
   "outputs": [
    {
     "name": "stdout",
     "output_type": "stream",
     "text": [
      "kcl : Size=2, Index={Mozambique, South Africa}, Active=True\n",
      "    Key          : Lower   : Body                                                                                        : Upper   : Active\n",
      "      Mozambique :   650.0 :                                                                     g[Mozambique,Hydro] + f :   650.0 :   True\n",
      "    South Africa : 42000.0 : g[South Africa,Coal] + g[South Africa,Wind] + g[South Africa,Gas] + g[South Africa,Oil] - f : 42000.0 :   True\n"
     ]
    }
   ],
   "source": [
    "m.kcl.pprint()"
   ]
  },
  {
   "cell_type": "code",
   "execution_count": 16,
   "id": "88bd984d-5c3c-48e0-b0bc-79f681c8dec8",
   "metadata": {},
   "outputs": [
    {
     "name": "stdout",
     "output_type": "stream",
     "text": [
      "line_limit : Size=1, Index=None, Active=True\n",
      "    Key  : Lower  : Body : Upper : Active\n",
      "    None : -500.0 :    f : 500.0 :   True\n"
     ]
    }
   ],
   "source": [
    "m.line_limit = pe.Constraint(expr = (-transmission, m.f, transmission))\n",
    "m.line_limit.pprint()"
   ]
  },
  {
   "cell_type": "code",
   "execution_count": 17,
   "id": "1a96b5d0-77a6-42de-a440-aeb1294c2c50",
   "metadata": {},
   "outputs": [
    {
     "name": "stdout",
     "output_type": "stream",
     "text": [
      "# ==========================================================\n",
      "# = Solver Results                                         =\n",
      "# ==========================================================\n",
      "# ----------------------------------------------------------\n",
      "#   Problem Information\n",
      "# ----------------------------------------------------------\n",
      "Problem: \n",
      "- Name: x1\n",
      "  Lower bound: 1260000.0\n",
      "  Upper bound: 1260000.0\n",
      "  Number of objectives: 1\n",
      "  Number of constraints: 9\n",
      "  Number of variables: 6\n",
      "  Number of binary variables: 0\n",
      "  Number of integer variables: 0\n",
      "  Number of continuous variables: 6\n",
      "  Number of nonzeros: 14\n",
      "  Sense: minimize\n",
      "# ----------------------------------------------------------\n",
      "#   Solver Information\n",
      "# ----------------------------------------------------------\n",
      "Solver: \n",
      "- Status: ok\n",
      "  Return code: 0\n",
      "  Message: Model was solved to optimality (subject to tolerances), and an optimal solution is available.\n",
      "  Termination condition: optimal\n",
      "  Termination message: Model was solved to optimality (subject to tolerances), and an optimal solution is available.\n",
      "  Wall time: 0.023999929428100586\n",
      "  Error rc: 0\n",
      "# ----------------------------------------------------------\n",
      "#   Solution Information\n",
      "# ----------------------------------------------------------\n",
      "Solution: \n",
      "- number of solutions: 0\n",
      "  number of solutions displayed: 0\n"
     ]
    }
   ],
   "source": [
    "pe.SolverFactory(\"gurobi\").solve(m).write() # Can be solved wwith \"appsi-highs\""
   ]
  },
  {
   "cell_type": "code",
   "execution_count": 18,
   "id": "62b04b2b-56f2-4086-98c7-ef5152757046",
   "metadata": {},
   "outputs": [
    {
     "data": {
      "text/plain": [
       "1260000.0"
      ]
     },
     "execution_count": 18,
     "metadata": {},
     "output_type": "execute_result"
    }
   ],
   "source": [
    "m.cost()"
   ]
  },
  {
   "cell_type": "code",
   "execution_count": 19,
   "id": "73e0e4c4-9a1c-4d72-a652-782fd7f4799e",
   "metadata": {},
   "outputs": [
    {
     "data": {
      "text/plain": [
       "-500.0"
      ]
     },
     "execution_count": 19,
     "metadata": {},
     "output_type": "execute_result"
    }
   ],
   "source": [
    "m.f()"
   ]
  },
  {
   "cell_type": "code",
   "execution_count": 20,
   "id": "bc1cc34c-a3b7-4b9e-ae76-86f723274e54",
   "metadata": {},
   "outputs": [
    {
     "data": {
      "text/html": [
       "<div>\n",
       "<style scoped>\n",
       "    .dataframe tbody tr th:only-of-type {\n",
       "        vertical-align: middle;\n",
       "    }\n",
       "\n",
       "    .dataframe tbody tr th {\n",
       "        vertical-align: top;\n",
       "    }\n",
       "\n",
       "    .dataframe thead th {\n",
       "        text-align: right;\n",
       "    }\n",
       "</style>\n",
       "<table border=\"1\" class=\"dataframe\">\n",
       "  <thead>\n",
       "    <tr style=\"text-align: right;\">\n",
       "      <th></th>\n",
       "      <th>Coal</th>\n",
       "      <th>Gas</th>\n",
       "      <th>Hydro</th>\n",
       "      <th>Oil</th>\n",
       "      <th>Wind</th>\n",
       "    </tr>\n",
       "  </thead>\n",
       "  <tbody>\n",
       "    <tr>\n",
       "      <th>Mozambique</th>\n",
       "      <td>NaN</td>\n",
       "      <td>NaN</td>\n",
       "      <td>1150.0</td>\n",
       "      <td>NaN</td>\n",
       "      <td>NaN</td>\n",
       "    </tr>\n",
       "    <tr>\n",
       "      <th>South Africa</th>\n",
       "      <td>35000.0</td>\n",
       "      <td>3500.0</td>\n",
       "      <td>NaN</td>\n",
       "      <td>0.0</td>\n",
       "      <td>3000.0</td>\n",
       "    </tr>\n",
       "  </tbody>\n",
       "</table>\n",
       "</div>"
      ],
      "text/plain": [
       "                 Coal     Gas   Hydro  Oil    Wind\n",
       "Mozambique        NaN     NaN  1150.0  NaN     NaN\n",
       "South Africa  35000.0  3500.0     NaN  0.0  3000.0"
      ]
     },
     "execution_count": 20,
     "metadata": {},
     "output_type": "execute_result"
    }
   ],
   "source": [
    "pd.Series(m.g.get_values()).unstack()"
   ]
  },
  {
   "cell_type": "code",
   "execution_count": 21,
   "id": "c7aa4e91-1dca-4bae-b03c-f4c600cbea52",
   "metadata": {},
   "outputs": [
    {
     "data": {
      "text/plain": [
       "generator_limits[South Africa,Coal]   -30.0\n",
       "generator_limits[South Africa,Wind]   -60.0\n",
       "generator_limits[South Africa,Gas]      0.0\n",
       "generator_limits[South Africa,Oil]      0.0\n",
       "generator_limits[Mozambique,Hydro]      0.0\n",
       "kcl[Mozambique]                         0.0\n",
       "kcl[South Africa]                      60.0\n",
       "[None]                                 60.0\n",
       "dtype: float64"
      ]
     },
     "execution_count": 21,
     "metadata": {},
     "output_type": "execute_result"
    }
   ],
   "source": [
    "pd.Series(m.dual.values(), m.dual.keys())"
   ]
  },
  {
   "cell_type": "markdown",
   "id": "e52bbaa1-83a8-45b4-9f4d-846de620fb7b",
   "metadata": {},
   "source": [
    "# Deactivate line constraints, and fixed one variables to a pre-defined value"
   ]
  },
  {
   "cell_type": "code",
   "execution_count": 22,
   "id": "5ad8f67b-f330-486c-9abe-1a9715b86c67",
   "metadata": {},
   "outputs": [],
   "source": [
    "m.line_limit.deactivate()\n",
    "m.g[\"South Africa\", \"Coal\"].fix(34000)"
   ]
  },
  {
   "cell_type": "code",
   "execution_count": 23,
   "id": "56aa85b8-e2dd-4168-9cb8-96e7a981e933",
   "metadata": {},
   "outputs": [
    {
     "name": "stdout",
     "output_type": "stream",
     "text": [
      "# ==========================================================\n",
      "# = Solver Results                                         =\n",
      "# ==========================================================\n",
      "# ----------------------------------------------------------\n",
      "#   Problem Information\n",
      "# ----------------------------------------------------------\n",
      "Problem: \n",
      "- Name: x1\n",
      "  Lower bound: 1287000.0\n",
      "  Upper bound: 1287000.0\n",
      "  Number of objectives: 1\n",
      "  Number of constraints: 7\n",
      "  Number of variables: 6\n",
      "  Number of binary variables: 0\n",
      "  Number of integer variables: 0\n",
      "  Number of continuous variables: 6\n",
      "  Number of nonzeros: 10\n",
      "  Sense: minimize\n",
      "# ----------------------------------------------------------\n",
      "#   Solver Information\n",
      "# ----------------------------------------------------------\n",
      "Solver: \n",
      "- Status: ok\n",
      "  Return code: 0\n",
      "  Message: Model was solved to optimality (subject to tolerances), and an optimal solution is available.\n",
      "  Termination condition: optimal\n",
      "  Termination message: Model was solved to optimality (subject to tolerances), and an optimal solution is available.\n",
      "  Wall time: 0.002000093460083008\n",
      "  Error rc: 0\n",
      "# ----------------------------------------------------------\n",
      "#   Solution Information\n",
      "# ----------------------------------------------------------\n",
      "Solution: \n",
      "- number of solutions: 0\n",
      "  number of solutions displayed: 0\n"
     ]
    }
   ],
   "source": [
    "pe.SolverFactory(\"gurobi\").solve(m).write()"
   ]
  },
  {
   "cell_type": "code",
   "execution_count": 24,
   "id": "124a418c-5346-48f1-ad62-250b1c64f98b",
   "metadata": {},
   "outputs": [
    {
     "data": {
      "text/plain": [
       "1287000.0"
      ]
     },
     "execution_count": 24,
     "metadata": {},
     "output_type": "execute_result"
    }
   ],
   "source": [
    "m.cost()"
   ]
  },
  {
   "cell_type": "code",
   "execution_count": 25,
   "id": "636fc1bf-e012-4c57-91ee-ff930bf02b76",
   "metadata": {},
   "outputs": [
    {
     "data": {
      "text/plain": [
       "-550.0"
      ]
     },
     "execution_count": 25,
     "metadata": {},
     "output_type": "execute_result"
    }
   ],
   "source": [
    "m.f()"
   ]
  },
  {
   "cell_type": "code",
   "execution_count": 26,
   "id": "71e9e0ce-c88a-4db1-b74d-6bbca0003ab6",
   "metadata": {},
   "outputs": [
    {
     "data": {
      "text/html": [
       "<div>\n",
       "<style scoped>\n",
       "    .dataframe tbody tr th:only-of-type {\n",
       "        vertical-align: middle;\n",
       "    }\n",
       "\n",
       "    .dataframe tbody tr th {\n",
       "        vertical-align: top;\n",
       "    }\n",
       "\n",
       "    .dataframe thead th {\n",
       "        text-align: right;\n",
       "    }\n",
       "</style>\n",
       "<table border=\"1\" class=\"dataframe\">\n",
       "  <thead>\n",
       "    <tr style=\"text-align: right;\">\n",
       "      <th></th>\n",
       "      <th>Coal</th>\n",
       "      <th>Gas</th>\n",
       "      <th>Hydro</th>\n",
       "      <th>Oil</th>\n",
       "      <th>Wind</th>\n",
       "    </tr>\n",
       "  </thead>\n",
       "  <tbody>\n",
       "    <tr>\n",
       "      <th>Mozambique</th>\n",
       "      <td>NaN</td>\n",
       "      <td>NaN</td>\n",
       "      <td>1200.0</td>\n",
       "      <td>NaN</td>\n",
       "      <td>NaN</td>\n",
       "    </tr>\n",
       "    <tr>\n",
       "      <th>South Africa</th>\n",
       "      <td>34000.0</td>\n",
       "      <td>4450.0</td>\n",
       "      <td>NaN</td>\n",
       "      <td>0.0</td>\n",
       "      <td>3000.0</td>\n",
       "    </tr>\n",
       "  </tbody>\n",
       "</table>\n",
       "</div>"
      ],
      "text/plain": [
       "                 Coal     Gas   Hydro  Oil    Wind\n",
       "Mozambique        NaN     NaN  1200.0  NaN     NaN\n",
       "South Africa  34000.0  4450.0     NaN  0.0  3000.0"
      ]
     },
     "execution_count": 26,
     "metadata": {},
     "output_type": "execute_result"
    }
   ],
   "source": [
    "pd.Series(m.g.get_values()).unstack()"
   ]
  },
  {
   "cell_type": "code",
   "execution_count": null,
   "id": "df9d9d4e-32e5-4f0c-b90a-31f2f8e8b325",
   "metadata": {},
   "outputs": [],
   "source": []
  }
 ],
 "metadata": {
  "kernelspec": {
   "display_name": "Python 3 (ipykernel)",
   "language": "python",
   "name": "python3"
  },
  "language_info": {
   "codemirror_mode": {
    "name": "ipython",
    "version": 3
   },
   "file_extension": ".py",
   "mimetype": "text/x-python",
   "name": "python",
   "nbconvert_exporter": "python",
   "pygments_lexer": "ipython3",
   "version": "3.12.11"
  }
 },
 "nbformat": 4,
 "nbformat_minor": 5
}
