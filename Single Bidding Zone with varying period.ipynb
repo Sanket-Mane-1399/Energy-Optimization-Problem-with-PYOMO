{
 "cells": [
  {
   "cell_type": "markdown",
   "id": "924c24f4-9cde-419e-b530-fcf35b35dc98",
   "metadata": {},
   "source": [
    "# Single Bidding Zone with varying periods"
   ]
  },
  {
   "cell_type": "markdown",
   "id": "612e3042-b01b-4f8f-910b-b8b6d52abe04",
   "metadata": {},
   "source": [
    "In this example, we consider multiple time periods (labelled [1,2,3,4]) to represent variable wind generation and changing load."
   ]
  },
  {
   "cell_type": "markdown",
   "id": "5a2cf32a-a059-4857-b51b-179c2246edc0",
   "metadata": {},
   "source": [
    "  \\begin{equation}\n",
    "    \\min_{g_{s,t}} \\sum_s o_{s} g_{s,t}\n",
    "  \\end{equation}\n",
    "  such that\n",
    "  \\begin{align}\n",
    "    g_{s,t} &\\leq \\hat{g}_{s,t} G_{i,s} \\\\\n",
    "    g_{s,t} &\\geq 0 \\\\\n",
    "    \\sum_s g_{s,t} &= d_t\n",
    "  \\end{align}"
   ]
  },
  {
   "cell_type": "code",
   "execution_count": 1,
   "id": "c91f4348-bb9e-4d41-93fa-671f55d3d048",
   "metadata": {},
   "outputs": [],
   "source": [
    "import pyomo.environ as pe\n",
    "import pandas as pd"
   ]
  },
  {
   "cell_type": "code",
   "execution_count": 2,
   "id": "8cb749b5-b832-43ba-b8ca-317fa6e733a9",
   "metadata": {},
   "outputs": [],
   "source": [
    "wind_ts = [0.3, 0.6, 0.4, 0.5]\n",
    "load_ts = [42000, 43000, 45000, 46000]"
   ]
  },
  {
   "cell_type": "code",
   "execution_count": 3,
   "id": "af1f6a29-3b83-46aa-b22f-276eed6abc23",
   "metadata": {},
   "outputs": [],
   "source": [
    "capacities = {\n",
    "    \"South Africa\": {\"Coal\": 35000, \"Wind\": 3000, \"Gas\": 8000, \"Oil\": 2000},\n",
    "    \"Mozambique\": {\"Hydro\": 1200},\n",
    "}"
   ]
  },
  {
   "cell_type": "code",
   "execution_count": 4,
   "id": "e82b8af7-2729-4d88-a3b0-a0835f11e4d8",
   "metadata": {},
   "outputs": [],
   "source": [
    "marginal_costs = {\n",
    "    \"Wind\": 0,\n",
    "    \"Coal\": 30,\n",
    "    \"Gas\": 60,\n",
    "    \"Oil\": 80,\n",
    "    \"Hydro\": 0,\n",
    "}"
   ]
  },
  {
   "cell_type": "code",
   "execution_count": 5,
   "id": "7df2f01f-42da-4ccf-95ee-2599ec2fb277",
   "metadata": {},
   "outputs": [],
   "source": [
    "m = pe.ConcreteModel()\n",
    "m.dual = pe.Suffix(direction = pe.Suffix.IMPORT)"
   ]
  },
  {
   "cell_type": "code",
   "execution_count": 6,
   "id": "a9a37010-8087-4d99-b8d8-6959dcfef85d",
   "metadata": {},
   "outputs": [],
   "source": [
    "techs = capacities['South Africa'].keys()\n",
    "\n",
    "m.S = pe.Set(initialize = techs)\n",
    "m.T = pe.RangeSet(4)"
   ]
  },
  {
   "cell_type": "code",
   "execution_count": 7,
   "id": "934777c5-c72a-46f7-9193-b5205e7b0e2e",
   "metadata": {},
   "outputs": [],
   "source": [
    "m.g = pe.Var(m.S, m.T, within = pe.NonNegativeReals)"
   ]
  },
  {
   "cell_type": "code",
   "execution_count": 8,
   "id": "7c3d37ee-84e7-4f07-abd2-b017c18131cf",
   "metadata": {},
   "outputs": [],
   "source": [
    "m.cost = pe.Objective(expr = sum(marginal_costs[s] * m.g[s,t] for s in m.S for t in m.T))"
   ]
  },
  {
   "cell_type": "code",
   "execution_count": 9,
   "id": "883bc6ff-f038-4f62-9b31-c8cb7cb749a3",
   "metadata": {},
   "outputs": [],
   "source": [
    "@m.Constraint(m.S, m.T)\n",
    "def generator_limit(m,s,t):\n",
    "    cf = wind_ts[t-1] if s == \"Wind\" else 1\n",
    "    return m.g[s,t] <= cf * capacities[\"South Africa\"][s]"
   ]
  },
  {
   "cell_type": "code",
   "execution_count": 10,
   "id": "87c941c8-99c2-4e4b-b02e-120192e1089d",
   "metadata": {},
   "outputs": [
    {
     "name": "stdout",
     "output_type": "stream",
     "text": [
      "generator_limit : Size=16, Index=S*T, Active=True\n",
      "    Key         : Lower : Body      : Upper   : Active\n",
      "    ('Coal', 1) :  -Inf : g[Coal,1] : 35000.0 :   True\n",
      "    ('Coal', 2) :  -Inf : g[Coal,2] : 35000.0 :   True\n",
      "    ('Coal', 3) :  -Inf : g[Coal,3] : 35000.0 :   True\n",
      "    ('Coal', 4) :  -Inf : g[Coal,4] : 35000.0 :   True\n",
      "     ('Gas', 1) :  -Inf :  g[Gas,1] :  8000.0 :   True\n",
      "     ('Gas', 2) :  -Inf :  g[Gas,2] :  8000.0 :   True\n",
      "     ('Gas', 3) :  -Inf :  g[Gas,3] :  8000.0 :   True\n",
      "     ('Gas', 4) :  -Inf :  g[Gas,4] :  8000.0 :   True\n",
      "     ('Oil', 1) :  -Inf :  g[Oil,1] :  2000.0 :   True\n",
      "     ('Oil', 2) :  -Inf :  g[Oil,2] :  2000.0 :   True\n",
      "     ('Oil', 3) :  -Inf :  g[Oil,3] :  2000.0 :   True\n",
      "     ('Oil', 4) :  -Inf :  g[Oil,4] :  2000.0 :   True\n",
      "    ('Wind', 1) :  -Inf : g[Wind,1] :   900.0 :   True\n",
      "    ('Wind', 2) :  -Inf : g[Wind,2] :  1800.0 :   True\n",
      "    ('Wind', 3) :  -Inf : g[Wind,3] :  1200.0 :   True\n",
      "    ('Wind', 4) :  -Inf : g[Wind,4] :  1500.0 :   True\n"
     ]
    }
   ],
   "source": [
    "m.generator_limit.pprint()"
   ]
  },
  {
   "cell_type": "code",
   "execution_count": 11,
   "id": "ffc30010-8d53-41cc-8139-bfee48c60efb",
   "metadata": {},
   "outputs": [],
   "source": [
    "@m.Constraint(m.T)\n",
    "def energy_balance(m, t):\n",
    "    return sum(m.g[s,t] for s in m.S) == load_ts[t-1]"
   ]
  },
  {
   "cell_type": "code",
   "execution_count": 12,
   "id": "1b176b12-3fd3-4a3b-8e33-bb5b76a6c961",
   "metadata": {},
   "outputs": [
    {
     "name": "stdout",
     "output_type": "stream",
     "text": [
      "energy_balance : Size=4, Index=T, Active=True\n",
      "    Key : Lower   : Body                                        : Upper   : Active\n",
      "      1 : 42000.0 : g[Coal,1] + g[Wind,1] + g[Gas,1] + g[Oil,1] : 42000.0 :   True\n",
      "      2 : 43000.0 : g[Coal,2] + g[Wind,2] + g[Gas,2] + g[Oil,2] : 43000.0 :   True\n",
      "      3 : 45000.0 : g[Coal,3] + g[Wind,3] + g[Gas,3] + g[Oil,3] : 45000.0 :   True\n",
      "      4 : 46000.0 : g[Coal,4] + g[Wind,4] + g[Gas,4] + g[Oil,4] : 46000.0 :   True\n"
     ]
    }
   ],
   "source": [
    "m.energy_balance.pprint()"
   ]
  },
  {
   "cell_type": "code",
   "execution_count": 13,
   "id": "f92b1ed0-dd52-431c-b35c-fa413b334c84",
   "metadata": {},
   "outputs": [
    {
     "name": "stdout",
     "output_type": "stream",
     "text": [
      "# ==========================================================\n",
      "# = Solver Results                                         =\n",
      "# ==========================================================\n",
      "# ----------------------------------------------------------\n",
      "#   Problem Information\n",
      "# ----------------------------------------------------------\n",
      "Problem: \n",
      "- Name: x1\n",
      "  Lower bound: 6082000.0\n",
      "  Upper bound: 6082000.0\n",
      "  Number of objectives: 1\n",
      "  Number of constraints: 20\n",
      "  Number of variables: 16\n",
      "  Number of binary variables: 0\n",
      "  Number of integer variables: 0\n",
      "  Number of continuous variables: 16\n",
      "  Number of nonzeros: 32\n",
      "  Sense: minimize\n",
      "# ----------------------------------------------------------\n",
      "#   Solver Information\n",
      "# ----------------------------------------------------------\n",
      "Solver: \n",
      "- Status: ok\n",
      "  Return code: 0\n",
      "  Message: Model was solved to optimality (subject to tolerances), and an optimal solution is available.\n",
      "  Termination condition: optimal\n",
      "  Termination message: Model was solved to optimality (subject to tolerances), and an optimal solution is available.\n",
      "  Wall time: 0.0010001659393310547\n",
      "  Error rc: 0\n",
      "# ----------------------------------------------------------\n",
      "#   Solution Information\n",
      "# ----------------------------------------------------------\n",
      "Solution: \n",
      "- number of solutions: 0\n",
      "  number of solutions displayed: 0\n",
      "64.4 ms ± 0 ns per loop (mean ± std. dev. of 1 run, 1 loop each)\n"
     ]
    }
   ],
   "source": [
    "%%timeit -n 1 -r 1\n",
    "pe.SolverFactory(\"gurobi\").solve(m).write()"
   ]
  },
  {
   "cell_type": "code",
   "execution_count": 14,
   "id": "b541c0f2-a4f3-4373-a9e8-ff78e0d26690",
   "metadata": {},
   "outputs": [
    {
     "data": {
      "text/plain": [
       "6082000.0"
      ]
     },
     "execution_count": 14,
     "metadata": {},
     "output_type": "execute_result"
    }
   ],
   "source": [
    "m.cost()"
   ]
  },
  {
   "cell_type": "code",
   "execution_count": 15,
   "id": "70a58e9d-ba30-4f4c-bbab-42754674b054",
   "metadata": {},
   "outputs": [
    {
     "data": {
      "text/plain": [
       "generator_limit[Coal,1]   -30.0\n",
       "generator_limit[Coal,2]   -30.0\n",
       "generator_limit[Coal,3]   -50.0\n",
       "generator_limit[Coal,4]   -50.0\n",
       "generator_limit[Wind,1]   -60.0\n",
       "generator_limit[Wind,2]   -60.0\n",
       "generator_limit[Wind,3]   -80.0\n",
       "generator_limit[Wind,4]   -80.0\n",
       "generator_limit[Gas,1]      0.0\n",
       "generator_limit[Gas,2]      0.0\n",
       "generator_limit[Gas,3]    -20.0\n",
       "generator_limit[Gas,4]    -20.0\n",
       "generator_limit[Oil,1]      0.0\n",
       "generator_limit[Oil,2]      0.0\n",
       "generator_limit[Oil,3]      0.0\n",
       "generator_limit[Oil,4]      0.0\n",
       "energy_balance[1]          60.0\n",
       "energy_balance[2]          60.0\n",
       "energy_balance[3]          80.0\n",
       "energy_balance[4]          80.0\n",
       "dtype: float64"
      ]
     },
     "execution_count": 15,
     "metadata": {},
     "output_type": "execute_result"
    }
   ],
   "source": [
    "pd.Series(m.dual.values(), m.dual.keys())"
   ]
  },
  {
   "cell_type": "code",
   "execution_count": 16,
   "id": "a2cd2c8f-409e-4657-b3a8-78291d1888bc",
   "metadata": {},
   "outputs": [
    {
     "data": {
      "text/html": [
       "<div>\n",
       "<style scoped>\n",
       "    .dataframe tbody tr th:only-of-type {\n",
       "        vertical-align: middle;\n",
       "    }\n",
       "\n",
       "    .dataframe tbody tr th {\n",
       "        vertical-align: top;\n",
       "    }\n",
       "\n",
       "    .dataframe thead th {\n",
       "        text-align: right;\n",
       "    }\n",
       "</style>\n",
       "<table border=\"1\" class=\"dataframe\">\n",
       "  <thead>\n",
       "    <tr style=\"text-align: right;\">\n",
       "      <th></th>\n",
       "      <th>Coal</th>\n",
       "      <th>Gas</th>\n",
       "      <th>Oil</th>\n",
       "      <th>Wind</th>\n",
       "    </tr>\n",
       "  </thead>\n",
       "  <tbody>\n",
       "    <tr>\n",
       "      <th>1</th>\n",
       "      <td>35000.0</td>\n",
       "      <td>6100.0</td>\n",
       "      <td>0.0</td>\n",
       "      <td>900.0</td>\n",
       "    </tr>\n",
       "    <tr>\n",
       "      <th>2</th>\n",
       "      <td>35000.0</td>\n",
       "      <td>6200.0</td>\n",
       "      <td>0.0</td>\n",
       "      <td>1800.0</td>\n",
       "    </tr>\n",
       "    <tr>\n",
       "      <th>3</th>\n",
       "      <td>35000.0</td>\n",
       "      <td>8000.0</td>\n",
       "      <td>800.0</td>\n",
       "      <td>1200.0</td>\n",
       "    </tr>\n",
       "    <tr>\n",
       "      <th>4</th>\n",
       "      <td>35000.0</td>\n",
       "      <td>8000.0</td>\n",
       "      <td>1500.0</td>\n",
       "      <td>1500.0</td>\n",
       "    </tr>\n",
       "  </tbody>\n",
       "</table>\n",
       "</div>"
      ],
      "text/plain": [
       "      Coal     Gas     Oil    Wind\n",
       "1  35000.0  6100.0     0.0   900.0\n",
       "2  35000.0  6200.0     0.0  1800.0\n",
       "3  35000.0  8000.0   800.0  1200.0\n",
       "4  35000.0  8000.0  1500.0  1500.0"
      ]
     },
     "execution_count": 16,
     "metadata": {},
     "output_type": "execute_result"
    }
   ],
   "source": [
    "pd.Series(m.g.get_values()).unstack(0)"
   ]
  },
  {
   "cell_type": "markdown",
   "id": "1a64338f-51e7-4425-9aa9-9615923fd6c1",
   "metadata": {},
   "source": [
    "# Adding Energy Storage"
   ]
  },
  {
   "cell_type": "code",
   "execution_count": 17,
   "id": "52b7161f-a683-488d-8d50-7fe1cb8ab5a3",
   "metadata": {},
   "outputs": [],
   "source": [
    "storage_energy = 6000  # MWh\n",
    "storage_power = 1000  # MW\n",
    "efficiency = 0.9  # discharge = charge\n",
    "standing_loss = 0.00001  # per hour"
   ]
  },
  {
   "cell_type": "code",
   "execution_count": 18,
   "id": "4b023aca-a688-4f92-8f2a-61568eb474c6",
   "metadata": {},
   "outputs": [],
   "source": [
    "m.discharge = pe.Var(m.T, bounds = (0, storage_power))\n",
    "m.charge = pe.Var(m.T, bounds = (0, storage_power))\n",
    "m.soc = pe.Var(m.T, bounds = (0, storage_energy))"
   ]
  },
  {
   "cell_type": "code",
   "execution_count": 19,
   "id": "ec065763-9928-4f04-8765-4c6a57851bad",
   "metadata": {},
   "outputs": [],
   "source": [
    "@m.Constraint(m.T)\n",
    "def storage_consistency(m,t):\n",
    "    if t == 1:\n",
    "        return m.soc[t] == 0\n",
    "    return (m.soc[t] == (1 - standing_loss) * m.soc[t-1] + efficiency * m.charge[t] - 1/efficiency * m.discharge[t])"
   ]
  },
  {
   "cell_type": "code",
   "execution_count": 20,
   "id": "61e5c52b-c114-4178-a7d6-00a684bff7ca",
   "metadata": {},
   "outputs": [
    {
     "name": "stdout",
     "output_type": "stream",
     "text": [
      "storage_consistency : Size=4, Index=T, Active=True\n",
      "    Key : Lower : Body                                                                        : Upper : Active\n",
      "      1 :   0.0 :                                                                      soc[1] :   0.0 :   True\n",
      "      2 :   0.0 : soc[2] - (0.99999*soc[1] + 0.9*charge[2] - 1.1111111111111112*discharge[2]) :   0.0 :   True\n",
      "      3 :   0.0 : soc[3] - (0.99999*soc[2] + 0.9*charge[3] - 1.1111111111111112*discharge[3]) :   0.0 :   True\n",
      "      4 :   0.0 : soc[4] - (0.99999*soc[3] + 0.9*charge[4] - 1.1111111111111112*discharge[4]) :   0.0 :   True\n"
     ]
    }
   ],
   "source": [
    "m.storage_consistency.pprint()"
   ]
  },
  {
   "cell_type": "code",
   "execution_count": 21,
   "id": "5e1f09e1-4f16-48a5-b9a1-9a23a1e3283b",
   "metadata": {},
   "outputs": [],
   "source": [
    "m.del_component(m.energy_balance)"
   ]
  },
  {
   "cell_type": "code",
   "execution_count": 22,
   "id": "d8bcf738-3d99-44a8-993b-832fd3e5fb12",
   "metadata": {},
   "outputs": [],
   "source": [
    "@m.Constraint(m.T)\n",
    "def energy_balance (m,t):\n",
    "    return sum(m.g[s,t] for s in m.S) + m.discharge[t] - m.charge[t] == load_ts[t-1]"
   ]
  },
  {
   "cell_type": "code",
   "execution_count": 23,
   "id": "5d8115c2-f897-42e8-82ac-23badb3b2822",
   "metadata": {},
   "outputs": [
    {
     "name": "stdout",
     "output_type": "stream",
     "text": [
      "# ==========================================================\n",
      "# = Solver Results                                         =\n",
      "# ==========================================================\n",
      "# ----------------------------------------------------------\n",
      "#   Problem Information\n",
      "# ----------------------------------------------------------\n",
      "Problem: \n",
      "- Name: x1\n",
      "  Lower bound: 6017200.65599352\n",
      "  Upper bound: 6017200.65599352\n",
      "  Number of objectives: 1\n",
      "  Number of constraints: 24\n",
      "  Number of variables: 28\n",
      "  Number of binary variables: 0\n",
      "  Number of integer variables: 0\n",
      "  Number of continuous variables: 28\n",
      "  Number of nonzeros: 53\n",
      "  Sense: minimize\n",
      "# ----------------------------------------------------------\n",
      "#   Solver Information\n",
      "# ----------------------------------------------------------\n",
      "Solver: \n",
      "- Status: ok\n",
      "  Return code: 0\n",
      "  Message: Model was solved to optimality (subject to tolerances), and an optimal solution is available.\n",
      "  Termination condition: optimal\n",
      "  Termination message: Model was solved to optimality (subject to tolerances), and an optimal solution is available.\n",
      "  Wall time: 0.004999876022338867\n",
      "  Error rc: 0\n",
      "# ----------------------------------------------------------\n",
      "#   Solution Information\n",
      "# ----------------------------------------------------------\n",
      "Solution: \n",
      "- number of solutions: 0\n",
      "  number of solutions displayed: 0\n"
     ]
    }
   ],
   "source": [
    "pe.SolverFactory(\"gurobi\").solve(m).write()"
   ]
  },
  {
   "cell_type": "code",
   "execution_count": 24,
   "id": "25bc31b3-4011-4659-95dd-4f189c7d7bed",
   "metadata": {},
   "outputs": [
    {
     "data": {
      "text/plain": [
       "6017200.65599352"
      ]
     },
     "execution_count": 24,
     "metadata": {},
     "output_type": "execute_result"
    }
   ],
   "source": [
    "m.cost()"
   ]
  },
  {
   "cell_type": "code",
   "execution_count": 25,
   "id": "a84f5daa-302a-408c-9db1-7bbc9401d29b",
   "metadata": {},
   "outputs": [
    {
     "data": {
      "text/plain": [
       "generator_limit[Coal,1]   -30.00000\n",
       "generator_limit[Coal,2]   -30.00000\n",
       "generator_limit[Coal,3]   -49.99920\n",
       "generator_limit[Coal,4]   -50.00000\n",
       "generator_limit[Wind,1]   -60.00000\n",
       "generator_limit[Wind,2]   -60.00000\n",
       "generator_limit[Wind,3]   -79.99920\n",
       "generator_limit[Wind,4]   -80.00000\n",
       "generator_limit[Gas,1]      0.00000\n",
       "generator_limit[Gas,2]      0.00000\n",
       "generator_limit[Gas,3]    -19.99920\n",
       "generator_limit[Gas,4]    -20.00000\n",
       "generator_limit[Oil,1]      0.00000\n",
       "generator_limit[Oil,2]      0.00000\n",
       "generator_limit[Oil,3]      0.00000\n",
       "generator_limit[Oil,4]      0.00000\n",
       "storage_consistency[1]    -71.99784\n",
       "storage_consistency[2]    -71.99856\n",
       "storage_consistency[3]    -71.99928\n",
       "storage_consistency[4]    -72.00000\n",
       "energy_balance[1]          60.00000\n",
       "energy_balance[2]          60.00000\n",
       "energy_balance[3]          79.99920\n",
       "energy_balance[4]          80.00000\n",
       "dtype: float64"
      ]
     },
     "execution_count": 25,
     "metadata": {},
     "output_type": "execute_result"
    }
   ],
   "source": [
    "pd.Series(m.dual.values(), m.dual.keys())"
   ]
  },
  {
   "cell_type": "code",
   "execution_count": 26,
   "id": "819713d5-6514-4812-9bb6-578a326b52f8",
   "metadata": {},
   "outputs": [
    {
     "data": {
      "text/plain": [
       "1    1000.0000\n",
       "2       0.0000\n",
       "3     800.0000\n",
       "4       9.9918\n",
       "dtype: float64"
      ]
     },
     "execution_count": 26,
     "metadata": {},
     "output_type": "execute_result"
    }
   ],
   "source": [
    "pd.Series(m.discharge.get_values())"
   ]
  },
  {
   "cell_type": "code",
   "execution_count": 27,
   "id": "f0a8aace-8206-4034-9210-1408393bff3d",
   "metadata": {},
   "outputs": [
    {
     "data": {
      "text/plain": [
       "1       0.0\n",
       "2    1000.0\n",
       "3       0.0\n",
       "4       0.0\n",
       "dtype: float64"
      ]
     },
     "execution_count": 27,
     "metadata": {},
     "output_type": "execute_result"
    }
   ],
   "source": [
    "pd.Series(m.charge.get_values())"
   ]
  },
  {
   "cell_type": "code",
   "execution_count": 28,
   "id": "faa7ac28-2890-433c-8091-24fdb02b05e1",
   "metadata": {},
   "outputs": [
    {
     "data": {
      "text/plain": [
       "1      0.000000\n",
       "2    900.000000\n",
       "3     11.102111\n",
       "4      0.000000\n",
       "dtype: float64"
      ]
     },
     "execution_count": 28,
     "metadata": {},
     "output_type": "execute_result"
    }
   ],
   "source": [
    "pd.Series(m.soc.get_values())"
   ]
  }
 ],
 "metadata": {
  "kernelspec": {
   "display_name": "Python 3 (ipykernel)",
   "language": "python",
   "name": "python3"
  },
  "language_info": {
   "codemirror_mode": {
    "name": "ipython",
    "version": 3
   },
   "file_extension": ".py",
   "mimetype": "text/x-python",
   "name": "python",
   "nbconvert_exporter": "python",
   "pygments_lexer": "ipython3",
   "version": "3.12.11"
  }
 },
 "nbformat": 4,
 "nbformat_minor": 5
}
