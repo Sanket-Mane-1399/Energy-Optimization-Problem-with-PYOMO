{
 "cells": [
  {
   "cell_type": "markdown",
   "id": "8fcf2103-8eb1-4cd9-8753-a0fe7cdb0c0d",
   "metadata": {},
   "source": [
    "# Single Bidding Zone, Single Period"
   ]
  },
  {
   "cell_type": "markdown",
   "id": "8e90d827-5d02-403d-9359-e9e131343e0f",
   "metadata": {},
   "source": [
    "We want to minimise operational cost of an example electricity system representing South Africa subject to generator limits and meeting the load:\n",
    "\n",
    "\\begin{equation}\n",
    "    \\min_{g_s} \\sum_s o_s g_s\n",
    "  \\end{equation}\n",
    "  such that\n",
    "  \\begin{align}\n",
    "    g_s &\\leq G_s \\\\\n",
    "    g_s &\\geq 0 \\\\\n",
    "    \\sum_s g_s &= d\n",
    "  \\end{align}"
   ]
  },
  {
   "cell_type": "code",
   "execution_count": 2,
   "id": "40c16643-d371-46a9-b2e3-29f4c80b2bd8",
   "metadata": {},
   "outputs": [],
   "source": [
    "import pyomo.environ as pe\n",
    "import pandas as pd"
   ]
  },
  {
   "cell_type": "code",
   "execution_count": 3,
   "id": "61d70814-f694-443a-941f-65d3f1d1f618",
   "metadata": {},
   "outputs": [],
   "source": [
    "marginal_costs = {\n",
    "    \"Wind\": 0,\n",
    "    \"Coal\": 30,\n",
    "    \"Gas\": 60,\n",
    "    \"Oil\": 80,\n",
    "}"
   ]
  },
  {
   "cell_type": "code",
   "execution_count": 4,
   "id": "de5031de-02a4-450a-99c5-46fa211be291",
   "metadata": {},
   "outputs": [],
   "source": [
    "capacities = {\"Coal\": 35000, \"Wind\": 3000, \"Gas\": 8000, \"Oil\": 2000}"
   ]
  },
  {
   "cell_type": "code",
   "execution_count": 5,
   "id": "2a3fa5a5-8614-4ad9-be4d-98f26b3acf0e",
   "metadata": {},
   "outputs": [],
   "source": [
    "load = 42000"
   ]
  },
  {
   "cell_type": "code",
   "execution_count": 6,
   "id": "c2a4749c-0e01-4086-acb8-999c97928040",
   "metadata": {},
   "outputs": [],
   "source": [
    "m = pe.ConcreteModel()\n",
    "m.dual = pe.Suffix(direction=pe.Suffix.IMPORT)"
   ]
  },
  {
   "cell_type": "code",
   "execution_count": 7,
   "id": "e1f5042d-707e-4ccd-83ae-4cd2cf825bc3",
   "metadata": {},
   "outputs": [],
   "source": [
    "m.S = pe.Set(initialize = capacities.keys())"
   ]
  },
  {
   "cell_type": "code",
   "execution_count": 8,
   "id": "0ec40f30-07bb-4e2e-ba4b-34ba99de0622",
   "metadata": {},
   "outputs": [],
   "source": [
    "m.g = pe.Var(m.S, within = pe.NonNegativeReals)"
   ]
  },
  {
   "cell_type": "code",
   "execution_count": 9,
   "id": "bdb544f5-df65-4048-be50-e51a10867a26",
   "metadata": {},
   "outputs": [],
   "source": [
    "m.op_cost = pe.Objective(expr = sum(marginal_costs[s] * m.g[s] for s in m.S))"
   ]
  },
  {
   "cell_type": "code",
   "execution_count": 10,
   "id": "1522f82e-6946-44ca-8a73-99739fec74b1",
   "metadata": {},
   "outputs": [
    {
     "name": "stdout",
     "output_type": "stream",
     "text": [
      "op_cost : Size=1, Index=None, Active=True\n",
      "    Key  : Active : Sense    : Expression\n",
      "    None :   True : minimize : 30*g[Coal] + 0*g[Wind] + 60*g[Gas] + 80*g[Oil]\n"
     ]
    }
   ],
   "source": [
    "m.op_cost.pprint()"
   ]
  },
  {
   "cell_type": "code",
   "execution_count": 11,
   "id": "6e1714ad-5792-4a78-b75b-77dbfdb802a7",
   "metadata": {},
   "outputs": [],
   "source": [
    "@m.Constraint(m.S)\n",
    "def generator_limits(m ,s):\n",
    "    return m.g[s] <= capacities[s]"
   ]
  },
  {
   "cell_type": "code",
   "execution_count": 12,
   "id": "caa5931f-464a-4cdb-a9bd-370d5a39a353",
   "metadata": {},
   "outputs": [
    {
     "name": "stdout",
     "output_type": "stream",
     "text": [
      "generator_limits : Size=4, Index=S, Active=True\n",
      "    Key  : Lower : Body    : Upper   : Active\n",
      "    Coal :  -Inf : g[Coal] : 35000.0 :   True\n",
      "     Gas :  -Inf :  g[Gas] :  8000.0 :   True\n",
      "     Oil :  -Inf :  g[Oil] :  2000.0 :   True\n",
      "    Wind :  -Inf : g[Wind] :  3000.0 :   True\n"
     ]
    }
   ],
   "source": [
    "m.generator_limits.pprint()"
   ]
  },
  {
   "cell_type": "code",
   "execution_count": 13,
   "id": "a78579cd-86af-4429-b09f-0db1630505be",
   "metadata": {},
   "outputs": [],
   "source": [
    "m.energy_balance = pe.Constraint(expr = sum(m.g[s] for s in m.S) == load)"
   ]
  },
  {
   "cell_type": "code",
   "execution_count": 14,
   "id": "b6db4117-da8f-425c-9abd-263c4f43c2ce",
   "metadata": {},
   "outputs": [
    {
     "name": "stdout",
     "output_type": "stream",
     "text": [
      "energy_balance : Size=1, Index=None, Active=True\n",
      "    Key  : Lower   : Body                                : Upper   : Active\n",
      "    None : 42000.0 : g[Coal] + g[Wind] + g[Gas] + g[Oil] : 42000.0 :   True\n"
     ]
    }
   ],
   "source": [
    "m.energy_balance.pprint()"
   ]
  },
  {
   "cell_type": "code",
   "execution_count": 15,
   "id": "cb1cb108-829c-4028-ba05-4c7ff274935f",
   "metadata": {},
   "outputs": [
    {
     "name": "stdout",
     "output_type": "stream",
     "text": [
      "# ==========================================================\n",
      "# = Solver Results                                         =\n",
      "# ==========================================================\n",
      "# ----------------------------------------------------------\n",
      "#   Problem Information\n",
      "# ----------------------------------------------------------\n",
      "Problem: \n",
      "- Lower bound: 1290000.0\n",
      "  Upper bound: 1290000.0\n",
      "  Number of objectives: 1\n",
      "  Number of constraints: 0\n",
      "  Number of variables: 0\n",
      "  Sense: minimize\n",
      "# ----------------------------------------------------------\n",
      "#   Solver Information\n",
      "# ----------------------------------------------------------\n",
      "Solver: \n",
      "- Status: ok\n",
      "  Termination condition: optimal\n",
      "  Termination message: TerminationCondition.optimal\n",
      "# ----------------------------------------------------------\n",
      "#   Solution Information\n",
      "# ----------------------------------------------------------\n",
      "Solution: \n",
      "- number of solutions: 0\n",
      "  number of solutions displayed: 0\n"
     ]
    }
   ],
   "source": [
    "pe.SolverFactory(\"appsi_highs\").solve(m).write()"
   ]
  },
  {
   "cell_type": "code",
   "execution_count": 16,
   "id": "1da810a5-7cd8-4ad3-84ed-d978e3ef7c38",
   "metadata": {},
   "outputs": [
    {
     "data": {
      "text/plain": [
       "Coal    35000.0\n",
       "Wind     3000.0\n",
       "Gas      4000.0\n",
       "Oil         0.0\n",
       "dtype: float64"
      ]
     },
     "execution_count": 16,
     "metadata": {},
     "output_type": "execute_result"
    }
   ],
   "source": [
    "pd.Series(m.g.get_values())"
   ]
  },
  {
   "cell_type": "code",
   "execution_count": 17,
   "id": "55b57ab9-8eac-407d-82a0-793c54f3629d",
   "metadata": {},
   "outputs": [
    {
     "data": {
      "text/plain": [
       "60.0"
      ]
     },
     "execution_count": 17,
     "metadata": {},
     "output_type": "execute_result"
    }
   ],
   "source": [
    "market_price = m.dual[m.energy_balance]\n",
    "market_price"
   ]
  },
  {
   "cell_type": "code",
   "execution_count": 18,
   "id": "8cfd1fcc-e036-4360-adfe-c47759b0fa4d",
   "metadata": {},
   "outputs": [
    {
     "data": {
      "text/plain": [
       "Coal   -30.0\n",
       "Wind   -60.0\n",
       "Gas     -0.0\n",
       "Oil     -0.0\n",
       "dtype: float64"
      ]
     },
     "execution_count": 18,
     "metadata": {},
     "output_type": "execute_result"
    }
   ],
   "source": [
    "pd.Series({s: m.dual[m.generator_limits[s]] for s in m.S})"
   ]
  },
  {
   "cell_type": "code",
   "execution_count": 19,
   "id": "631462c8-021b-4561-a4f8-5444e9cbd4e4",
   "metadata": {},
   "outputs": [
    {
     "data": {
      "text/plain": [
       "generator_limits[Coal]   -30.0\n",
       "generator_limits[Wind]   -60.0\n",
       "generator_limits[Gas]     -0.0\n",
       "generator_limits[Oil]     -0.0\n",
       "[None]                    60.0\n",
       "dtype: float64"
      ]
     },
     "execution_count": 19,
     "metadata": {},
     "output_type": "execute_result"
    }
   ],
   "source": [
    "pd.Series(m.dual.values(), m.dual.keys())"
   ]
  },
  {
   "cell_type": "code",
   "execution_count": null,
   "id": "e8f8343d-cd87-45f5-829b-a4cb39d450f8",
   "metadata": {},
   "outputs": [],
   "source": []
  }
 ],
 "metadata": {
  "kernelspec": {
   "display_name": "Python 3 (ipykernel)",
   "language": "python",
   "name": "python3"
  },
  "language_info": {
   "codemirror_mode": {
    "name": "ipython",
    "version": 3
   },
   "file_extension": ".py",
   "mimetype": "text/x-python",
   "name": "python",
   "nbconvert_exporter": "python",
   "pygments_lexer": "ipython3",
   "version": "3.12.11"
  }
 },
 "nbformat": 4,
 "nbformat_minor": 5
}
